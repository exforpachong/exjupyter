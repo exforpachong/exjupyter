{
 "cells": [
  {
   "cell_type": "markdown",
   "metadata": {},
   "source": [
    "# 统计表格，并完成三个问题"
   ]
  },
  {
   "cell_type": "markdown",
   "metadata": {},
   "source": [
    "## 问题一：各部门人数"
   ]
  },
  {
   "cell_type": "markdown",
   "metadata": {},
   "source": [
    "### 第一步：首先导入需要用到的包"
   ]
  },
  {
   "cell_type": "code",
   "execution_count": 10,
   "metadata": {},
   "outputs": [],
   "source": [
    "import pandas as pd  #数据处理包，需要安装:pip install pandas\n",
    "import re  #正则表达式包"
   ]
  },
  {
   "cell_type": "markdown",
   "metadata": {},
   "source": [
    "### 第二步：读取数据并查看"
   ]
  },
  {
   "cell_type": "code",
   "execution_count": 17,
   "metadata": {},
   "outputs": [
    {
     "data": {
      "text/html": [
       "<div>\n",
       "<style scoped>\n",
       "    .dataframe tbody tr th:only-of-type {\n",
       "        vertical-align: middle;\n",
       "    }\n",
       "\n",
       "    .dataframe tbody tr th {\n",
       "        vertical-align: top;\n",
       "    }\n",
       "\n",
       "    .dataframe thead th {\n",
       "        text-align: right;\n",
       "    }\n",
       "</style>\n",
       "<table border=\"1\" class=\"dataframe\">\n",
       "  <thead>\n",
       "    <tr style=\"text-align: right;\">\n",
       "      <th></th>\n",
       "      <th>编号</th>\n",
       "      <th>姓名</th>\n",
       "      <th>部门</th>\n",
       "      <th>电子邮箱</th>\n",
       "      <th>电话号码</th>\n",
       "      <th>身份证号码</th>\n",
       "    </tr>\n",
       "  </thead>\n",
       "  <tbody>\n",
       "    <tr>\n",
       "      <td>0</td>\n",
       "      <td>10932</td>\n",
       "      <td>张珊</td>\n",
       "      <td>管理</td>\n",
       "      <td>zhans@163.com</td>\n",
       "      <td>18612345678</td>\n",
       "      <td>520125197907167551</td>\n",
       "    </tr>\n",
       "    <tr>\n",
       "      <td>1</td>\n",
       "      <td>10933</td>\n",
       "      <td>李思</td>\n",
       "      <td>软件</td>\n",
       "      <td>lisi@163.com</td>\n",
       "      <td>18612345679</td>\n",
       "      <td>510110195512176250</td>\n",
       "    </tr>\n",
       "    <tr>\n",
       "      <td>2</td>\n",
       "      <td>10934</td>\n",
       "      <td>王武</td>\n",
       "      <td>财务</td>\n",
       "      <td>wangwu@example.com</td>\n",
       "      <td>18612345680</td>\n",
       "      <td>510102196510255826</td>\n",
       "    </tr>\n",
       "    <tr>\n",
       "      <td>3</td>\n",
       "      <td>10935</td>\n",
       "      <td>赵柳</td>\n",
       "      <td>财务</td>\n",
       "      <td>zhaoliu@163.com</td>\n",
       "      <td>18612345681</td>\n",
       "      <td>510115195810287715</td>\n",
       "    </tr>\n",
       "    <tr>\n",
       "      <td>4</td>\n",
       "      <td>10936</td>\n",
       "      <td>钱棋</td>\n",
       "      <td>人事</td>\n",
       "      <td>qianqi@example.com</td>\n",
       "      <td>18612345682</td>\n",
       "      <td>510103196707165650</td>\n",
       "    </tr>\n",
       "  </tbody>\n",
       "</table>\n",
       "</div>"
      ],
      "text/plain": [
       "      编号  姓名  部门                电子邮箱         电话号码               身份证号码\n",
       "0  10932  张珊  管理       zhans@163.com  18612345678  520125197907167551\n",
       "1  10933  李思  软件        lisi@163.com  18612345679  510110195512176250\n",
       "2  10934  王武  财务  wangwu@example.com  18612345680  510102196510255826\n",
       "3  10935  赵柳  财务     zhaoliu@163.com  18612345681  510115195810287715\n",
       "4  10936  钱棋  人事  qianqi@example.com  18612345682  510103196707165650"
      ]
     },
     "execution_count": 17,
     "metadata": {},
     "output_type": "execute_result"
    }
   ],
   "source": [
    "employeeList = [['10932','张珊','管理','zhans@163.com','18612345678','520125197907167551'],\n",
    "['10933','李思','软件','lisi@163.com','18612345679','510110195512176250'],\n",
    "['10934','王武','财务','wangwu@example.com','18612345680','510102196510255826'],\n",
    "['10935','赵柳','财务','zhaoliu@163.com','18612345681','510115195810287715'],\n",
    "['10936','钱棋','人事','qianqi@example.com','18612345682','510103196707165650'],\n",
    "['10941','张明','管理','zhangming@example.com','18612345683','510105198112166015'],\n",
    "['10942','赵敏','人事','zhaomin@163.com','18612345684','510105198505225815'],\n",
    "['10945','王红','培训','wanghong@example.com','18612345685','510221196208516555'],\n",
    "['10946','李萧','培训','lixiao@example.com','18612345686','510221196601510810'],\n",
    "['10947','孙科','软件','sunke@163.com','18612345687','510105198507025519'],\n",
    "['10948','刘利','软件','liuli@example.com','18612345688','510227197510280527']]\n",
    "index = ['编号','姓名','部门','电子邮箱','电话号码','身份证号码']\n",
    "data = pd.DataFrame(employeeList,columns=index)\n",
    "data.head()"
   ]
  },
  {
   "cell_type": "code",
   "execution_count": 18,
   "metadata": {},
   "outputs": [
    {
     "data": {
      "text/plain": [
       "部门\n",
       "人事    2\n",
       "培训    2\n",
       "管理    2\n",
       "财务    2\n",
       "软件    3\n",
       "Name: 姓名, dtype: int64"
      ]
     },
     "execution_count": 18,
     "metadata": {},
     "output_type": "execute_result"
    }
   ],
   "source": [
    "data.groupby(by='部门').count()['姓名']  #可以查看没个部门人数"
   ]
  },
  {
   "cell_type": "code",
   "execution_count": 20,
   "metadata": {},
   "outputs": [
    {
     "data": {
      "text/plain": [
       "<matplotlib.axes._subplots.AxesSubplot at 0x1c8e4bed688>"
      ]
     },
     "execution_count": 20,
     "metadata": {},
     "output_type": "execute_result"
    },
    {
     "data": {
      "image/png": "[encoded data removed]",
      "text/plain": [
       "<Figure size 1440x576 with 1 Axes>"
      ]
     },
     "metadata": {
      "needs_background": "light"
     },
     "output_type": "display_data"
    }
   ],
   "source": [
    "data.groupby(by='部门').count()['姓名'].plot(kind='bar',figsize=(20,8),fontsize=20)  #也可以画图柱状图查看没个部门人数，比较清晰"
   ]
  },
  {
   "cell_type": "markdown",
   "metadata": {},
   "source": [
    "## 问题二： 使用163电子邮箱人数"
   ]
  },
  {
   "cell_type": "markdown",
   "metadata": {},
   "source": [
    "### 第一步：引入辅助函数"
   ]
  },
  {
   "cell_type": "code",
   "execution_count": 53,
   "metadata": {},
   "outputs": [],
   "source": [
    "def is_163_mail(text): #辅助函数，判断是否为163邮箱\n",
    "    \"\"\"\n",
    "    使用163邮箱：True \n",
    "    没有使用163邮箱：False\n",
    "    \"\"\"\n",
    "    if re.match(r'[0-9a-zA-Z_]{0,19}@163.com',text):\n",
    "        return 1\n",
    "    else:\n",
    "        return 0"
   ]
  },
  {
   "cell_type": "code",
   "execution_count": 58,
   "metadata": {},
   "outputs": [
    {
     "data": {
      "text/plain": [
       "['zhans@163.com',\n",
       " 'lisi@163.com',\n",
       " 'wangwu@example.com',\n",
       " 'zhaoliu@163.com',\n",
       " 'qianqi@example.com',\n",
       " 'zhangming@example.com',\n",
       " 'zhaomin@163.com',\n",
       " 'wanghong@example.com',\n",
       " 'lixiao@example.com',\n",
       " 'sunke@163.com',\n",
       " 'liuli@example.com']"
      ]
     },
     "execution_count": 58,
     "metadata": {},
     "output_type": "execute_result"
    }
   ],
   "source": [
    "mail_list = data['电子邮箱'].values.tolist() #找到“电子邮箱”的数据并转换为数组\n",
    "mail_list  #看一下结果"
   ]
  },
  {
   "cell_type": "markdown",
   "metadata": {},
   "source": [
    "### 第二步：得到使用163邮箱人数的列表，使用为1，不使用为0"
   ]
  },
  {
   "cell_type": "code",
   "execution_count": 55,
   "metadata": {},
   "outputs": [],
   "source": [
    "use163NumList = list(map(is_163_mail,mail_list))"
   ]
  },
  {
   "cell_type": "code",
   "execution_count": 40,
   "metadata": {},
   "outputs": [
    {
     "data": {
      "text/plain": [
       "[1, 1, 0, 1, 0, 0, 1, 0, 0, 1, 0]"
      ]
     },
     "execution_count": 40,
     "metadata": {},
     "output_type": "execute_result"
    }
   ],
   "source": [
    "use163NumList #查看结果"
   ]
  },
  {
   "cell_type": "code",
   "execution_count": 43,
   "metadata": {},
   "outputs": [
    {
     "name": "stdout",
     "output_type": "stream",
     "text": [
      "使用163邮箱的人数是： 5\n"
     ]
    }
   ],
   "source": [
    "print('使用163邮箱的人数是：',sum(use163NumList))"
   ]
  },
  {
   "cell_type": "markdown",
   "metadata": {},
   "source": [
    "## 问题三： 性别为男的员工人数"
   ]
  },
  {
   "cell_type": "markdown",
   "metadata": {},
   "source": [
    "### 第一步：引入辅助函数"
   ]
  },
  {
   "cell_type": "code",
   "execution_count": 45,
   "metadata": {},
   "outputs": [],
   "source": [
    "def is_male(id):  #辅助函数，根据身份证号码判断是否为男生\n",
    "     \"\"\"\n",
    "     男生：1\n",
    "     女生：0\n",
    "     \"\"\"\n",
    "     num = int(id[16:17])\n",
    "     if num % 2 == 0:\n",
    "         return 0\n",
    "     else:\n",
    "         return 1"
   ]
  },
  {
   "cell_type": "code",
   "execution_count": 49,
   "metadata": {},
   "outputs": [
    {
     "data": {
      "text/plain": [
       "['520125197907167551',\n",
       " '510110195512176250',\n",
       " '510102196510255826',\n",
       " '510115195810287715',\n",
       " '510103196707165650',\n",
       " '510105198112166015',\n",
       " '510105198505225815',\n",
       " '510221196208516555',\n",
       " '510221196601510810',\n",
       " '510105198507025519',\n",
       " '510227197510280527']"
      ]
     },
     "execution_count": 49,
     "metadata": {},
     "output_type": "execute_result"
    }
   ],
   "source": [
    "gender_list = data['身份证号码'].values.tolist() #找到“身份证号码”的数据并转换为数组\n",
    "gender_list  #看一下结果"
   ]
  },
  {
   "cell_type": "markdown",
   "metadata": {},
   "source": [
    "### 第二步：得到性别为男的列表，是男性为1，不是用为0"
   ]
  },
  {
   "cell_type": "code",
   "execution_count": 50,
   "metadata": {},
   "outputs": [
    {
     "data": {
      "text/plain": [
       "[1, 1, 0, 1, 1, 1, 1, 1, 1, 1, 0]"
      ]
     },
     "execution_count": 50,
     "metadata": {},
     "output_type": "execute_result"
    }
   ],
   "source": [
    "isMaleNumList = list(map(is_male,gender_list))\n",
    "isMaleNumList"
   ]
  },
  {
   "cell_type": "code",
   "execution_count": 52,
   "metadata": {},
   "outputs": [
    {
     "name": "stdout",
     "output_type": "stream",
     "text": [
      "性别为男的员工人数是： 9\n"
     ]
    }
   ],
   "source": [
    "print('性别为男的员工人数是：',sum(isMaleNumList))"
   ]
  }
 ],
 "metadata": {
  "kernelspec": {
   "display_name": "Python 3",
   "language": "python",
   "name": "python3"
  },
  "language_info": {
   "codemirror_mode": {
    "name": "ipython",
    "version": 3
   },
   "file_extension": ".py",
   "mimetype": "text/x-python",
   "name": "python",
   "nbconvert_exporter": "python",
   "pygments_lexer": "ipython3",
   "version": "3.7.4"
  }
 },
 "nbformat": 4,
 "nbformat_minor": 2
}
